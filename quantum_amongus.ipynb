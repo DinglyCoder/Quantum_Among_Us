{
 "cells": [
  {
   "cell_type": "code",
   "execution_count": 5,
   "metadata": {},
   "outputs": [],
   "source": [
    "#In case you don't have qiskit, install it now\n",
    "%pip install qiskit --quiet\n",
    "%pip install qiskit-aer --quiet\n",
    "#Installing/upgrading pylatexenc seems to have fixed my mpl issue\n",
    "#If you try this and it doesn't work, try also restarting the runtime/kernel\n",
    "%pip install pylatexenc --quiet\n"
   ]
  },
  {
   "cell_type": "code",
   "execution_count": 4,
   "metadata": {},
   "outputs": [],
   "source": [
    "\n",
    "#Let's go ahead and import all this stuff too\n",
    "from qiskit import QuantumCircuit, QuantumRegister, ClassicalRegister\n",
    "from qiskit_aer import Aer\n",
    "from qiskit.quantum_info import Statevector\n",
    "import numpy as np\n",
    "from qiskit.visualization import plot_histogram, plot_bloch_multivector\n",
    "import matplotlib.pyplot as plt\n",
    "%matplotlib inline"
   ]
  },
  {
   "cell_type": "code",
   "execution_count": 18,
   "metadata": {},
   "outputs": [],
   "source": []
  },
  {
   "cell_type": "code",
   "execution_count": 31,
   "metadata": {},
   "outputs": [],
   "source": [
    "\n",
    "def init_qcs(num_players):\n",
    "    # night circuit\n",
    "    night_qc = QuantumCircuit(num_players, num_players)\n",
    "    # voting circuit\n",
    "    vote_qc = QuantumCircuit(num_players, num_players)\n",
    "    return night_qc, vote_qc\n"
   ]
  },
  {
   "cell_type": "code",
   "execution_count": 30,
   "metadata": {},
   "outputs": [],
   "source": [
    "# set up the night circuit, everyone is alive\n",
    "def init_night(night_qc, num_players):\n",
    "    night_qc.x(range(num_players))\n",
    "\n",
    "# choose random player to be imposter\n",
    "def choose_imposter(num_players):\n",
    "    return np.random.randint(num_players)"
   ]
  },
  {
   "cell_type": "code",
   "execution_count": 29,
   "metadata": {},
   "outputs": [],
   "source": [
    "# round 1 tell everyone their roles\n",
    "def round_1(num_players, imposter):\n",
    "    for i in range(num_players):\n",
    "        if i == imposter:\n",
    "            n = input(f\"Player {i}: YOU ARE THE IMPOSTER\")\n",
    "            input(\"Please pass the device to the next player\")\n",
    "        else:\n",
    "            n = input(f\"Player: {i}: You are a crewmate\")\n",
    "            input(\"Please pass the device to the next player\")"
   ]
  },
  {
   "cell_type": "code",
   "execution_count": 37,
   "metadata": {},
   "outputs": [],
   "source": [
    "def get_actions(num_players, imposter, alive_players):\n",
    "    victim = None\n",
    "    for i in range(num_players):\n",
    "        if (alive_players[i] == 0):\n",
    "            continue\n",
    "        if i == imposter:\n",
    "            choice = 0\n",
    "            while choice != 1 and choice != 2:\n",
    "                choice = input(f\"Player {i}: You are the imposter. Do you want to kill 1 or entangle with 2 players? Enter 1 or 2\")\n",
    "                if choice == \"q\": break\n",
    "                choice = int(choice)\n",
    "                if choice == 1:\n",
    "                    victim = imposter_kill1(num_players, imposter)\n",
    "                else:\n",
    "                    victim = imposter_kill2(num_players, imposter)\n",
    "        else:\n",
    "            n = None\n",
    "            while n is None:\n",
    "                n = input(f\"Player {i}: please type a random number\")\n",
    "        input(\"Please pass the device to the next player\")\n",
    "    return victim\n",
    "\n",
    "def imposter_kill1(num_players, imposter):\n",
    "    victim = None\n",
    "    while victim is None:\n",
    "        n = input(\"Who do you want to kill?\")\n",
    "        if n == \"q\": break\n",
    "        n = int(n)\n",
    "        if n != imposter and isinstance(n,int) and n < num_players:\n",
    "            victim = int(n) \n",
    "    return victim\n",
    "\n",
    "def imposter_kill2(num_players, imposter):\n",
    "    victim = []\n",
    "    while len(victim) < 1:\n",
    "        n = input(\"Who do you want to entangle with 1?\")\n",
    "        if n == \"q\": break\n",
    "        n = int(n)\n",
    "        if n != imposter and isinstance(n, int) and n < num_players:\n",
    "            victim.append(int(n))\n",
    "    while len(victim) < 2:\n",
    "        n = input(\"Who do you want to entangle with 2?\")\n",
    "        if n == \"q\": break\n",
    "        n = int(n)\n",
    "        if n != imposter and n < num_players and n != victim[0]:\n",
    "            victim.append(int(n))\n",
    "    return victim\n",
    "\n",
    "def night_round(night_qc, num_players, imposter, alive_players):\n",
    "    victim = get_actions(num_players, imposter, alive_players)\n",
    "    # imposter kills victim\n",
    "    if isinstance(victim, int):\n",
    "        night_qc.x(victim)\n",
    "    else:\n",
    "        night_qc.h(imposter)\n",
    "        night_qc.cx(imposter, victim[0])\n",
    "        night_qc.cx(imposter, victim[1])\n",
    "\n",
    "# measure the night circuit and count the results\n",
    "def measure_night(qc, num_players):\n",
    "    qc.measure(range(num_players), range(num_players))\n",
    "    backend = Aer.get_backend('qasm_simulator')\n",
    "    night_counts = backend.run(qc, shots=1024).result().get_counts(qc)\n",
    "    print(night_counts)\n",
    "    plot_histogram(night_counts)\n",
    "    return night_counts\n",
    "\n",
    "def most_common(night_counts):\n",
    "    return max(night_counts, key=night_counts.get)\n",
    "\n",
    "def who_died(night_qc, num_players, imposter, alive_players):\n",
    "    night_counts = measure_night(night_qc, num_players)\n",
    "    states = str(most_common(night_counts))\n",
    "    states = states[::-1]\n",
    "    for i in range(len(states)):\n",
    "        if states[i] == \"0\":\n",
    "            print(f\"Player {i} died\")\n",
    "            alive_players[i] = 0\n",
    "            if i == imposter:\n",
    "                print(\"The imposter was killed\")\n",
    "                return False\n",
    "    return True\n"
   ]
  },
  {
   "cell_type": "code",
   "execution_count": 49,
   "metadata": {},
   "outputs": [],
   "source": [
    "# the circuit used to keep track of voting. helper method for vote. \n",
    "def voting_circuit(num_players, imposter, sabotages_left, alive_players):\n",
    "    vc = QuantumCircuit(num_players,num_players)\n",
    "    vc.barrier()\n",
    "    vc.h(range(num_players))\n",
    "    # ask each player for their selection\n",
    "    for i in range(num_players):\n",
    "        if (alive_players[i] == 0):\n",
    "            continue\n",
    "        n = input(f\"Player {i}, enter who you think the imposter is: \")\n",
    "        if (i != imposter):\n",
    "            vc.rz(np.pi / num_players, int(n))\n",
    "        else:\n",
    "            if (sabotages_left > 0):\n",
    "                sabotage = input(\"Do you want to sabotage a player? (y/n)\")\n",
    "                if (sabotage == \"y\"):\n",
    "                    sabotage = True\n",
    "                    sabotages_left -= 1\n",
    "                else:\n",
    "                    sabotage = False\n",
    "\n",
    "    vc.barrier()\n",
    "    \n",
    "    # sabotage random alive player. \n",
    "    if (sabotage):\n",
    "        sabotaged_player = np.random.randint(num_players)\n",
    "        while (alive_players[sabotaged_player] != 1):\n",
    "            sabotaged_player = np.random.randint(num_players)\n",
    "        vc.rz(np.pi / num_players, sabotaged_player)\n",
    "        \n",
    "    vc.h(range(num_players))\n",
    "    vc.barrier()\n",
    "    vc.measure(range(num_players), range(num_players))\n",
    "    vc.draw('mpl')\n",
    "    return vc"
   ]
  },
  {
   "cell_type": "code",
   "execution_count": 48,
   "metadata": {},
   "outputs": [],
   "source": [
    "# Return the player to kill based on the voting circuit\n",
    "def vote(num_players, imposter, sabotages_left, alive_players):\n",
    "    vc = voting_circuit(num_players, imposter, sabotages_left, alive_players)\n",
    "    backend=Aer.get_backend('qasm_simulator')\n",
    "    job = backend.run(vc, shots=1024)\n",
    "    counts = job.result().get_counts(vc)\n",
    "    plot_histogram(counts)\n",
    "    \n",
    "    # get the bitstring found the most\n",
    "    best = None\n",
    "    most = 0\n",
    "    for bitstring, c in counts.items():\n",
    "        if best==None or c>most and ('1' in bitstring):\n",
    "            most = c\n",
    "            best = bitstring\n",
    "\n",
    "    print(f\"Solution is {best} with a count of {most}\")\n",
    "\n",
    "    index = 0\n",
    "    while (best[index] != '1'):\n",
    "        index = index + 1\n",
    "\n",
    "    to_kill = num_players - index - 1\n",
    "    print(f\"Player {to_kill} has been killed! \") \n",
    "    alive_players[to_kill] = 0\n",
    "    return to_kill"
   ]
  },
  {
   "cell_type": "code",
   "execution_count": 50,
   "metadata": {},
   "outputs": [],
   "source": [
    "def check_game_over(alive_players, imposter):\n",
    "    num_alive = 0\n",
    "    for i in range(len(alive_players)):\n",
    "        # imposter is dead\n",
    "        if i == imposter and alive_players[i] == 0:\n",
    "            return True\n",
    "        if alive_players[i] == 1:\n",
    "            num_alive += 1\n",
    "    # imposter last alive\n",
    "    if num_alive == 1:\n",
    "        return True\n",
    "    return False"
   ]
  },
  {
   "cell_type": "code",
   "execution_count": 51,
   "metadata": {},
   "outputs": [
    {
     "name": "stdout",
     "output_type": "stream",
     "text": [
      "You have 2 sabotages left.\n"
     ]
    }
   ],
   "source": [
    "num_players = int(input(\"how many players do you have? \"))\n",
    "alive_players = [1 for i in range(num_players)] \n",
    "sabotages_left = int(np.floor(num_players / 3))\n",
    "print(\"You have\", sabotages_left, \"sabotages left.\")\n",
    "\n",
    "imposter_alive = True\n",
    "imposter = choose_imposter(num_players)\n",
    "alive_players = [1 for i in range(num_players)]\n",
    "round_1(num_players, imposter)"
   ]
  },
  {
   "cell_type": "code",
   "execution_count": 52,
   "metadata": {},
   "outputs": [
    {
     "name": "stdout",
     "output_type": "stream",
     "text": [
      "{'111110': 1024}\n",
      "Player 0 died\n",
      "[0, 1, 1, 1, 1, 1]\n",
      "Solution is 000100 with a count of 63\n",
      "Player 2 has been killed! \n",
      "[0, 1, 0, 1, 1, 1]\n",
      "{'111101': 1024}\n",
      "Player 1 died\n",
      "[0, 0, 0, 1, 1, 1]\n",
      "Solution is 100000 with a count of 225\n",
      "Player 5 has been killed! \n",
      "[0, 0, 0, 1, 1, 0]\n",
      "game over\n"
     ]
    }
   ],
   "source": [
    "while imposter_alive:\n",
    "    night_qc, vote_qc = init_qcs(num_players)\n",
    "    init_night(night_qc, num_players)\n",
    "    night_round(night_qc, num_players, imposter)\n",
    "    imposter_alive = who_died(night_qc, num_players, imposter, alive_players)\n",
    "    if (check_game_over(alive_players, imposter)):\n",
    "        break\n",
    "    print(alive_players)\n",
    "    vote(num_players, imposter, sabotages_left, alive_players)\n",
    "    print(alive_players)\n",
    "    if (check_game_over(alive_players, imposter)):\n",
    "        break\n",
    "\n",
    "print(\"game over\")"
   ]
  },
  {
   "cell_type": "code",
   "execution_count": null,
   "metadata": {},
   "outputs": [],
   "source": [
    "# display counts\n",
    "plot_histogram(night_counts)\n",
    "# hist_plt.show()\n"
   ]
  }
 ],
 "metadata": {
  "kernelspec": {
   "display_name": "Python 3",
   "language": "python",
   "name": "python3"
  },
  "language_info": {
   "codemirror_mode": {
    "name": "ipython",
    "version": 3
   },
   "file_extension": ".py",
   "mimetype": "text/x-python",
   "name": "python",
   "nbconvert_exporter": "python",
   "pygments_lexer": "ipython3",
   "version": "3.9.13"
  }
 },
 "nbformat": 4,
 "nbformat_minor": 2
}
